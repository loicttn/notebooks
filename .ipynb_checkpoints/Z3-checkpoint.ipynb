{
 "cells": [
  {
   "cell_type": "markdown",
   "metadata": {},
   "source": [
    "# Z3 : un problème ? Pas de problème !"
   ]
  },
  {
   "cell_type": "code",
   "execution_count": 134,
   "metadata": {},
   "outputs": [],
   "source": [
    "from z3 import *  # la ligne qui vous permet de gagner des points en CTF"
   ]
  },
  {
   "cell_type": "markdown",
   "metadata": {},
   "source": [
    "## Avant-propos"
   ]
  },
  {
   "cell_type": "markdown",
   "metadata": {},
   "source": [
    "z3 est un **résolveur de contraintes** créé par Microsoft Research"
   ]
  },
  {
   "cell_type": "markdown",
   "metadata": {},
   "source": [
    "# Le lycéen fainéant"
   ]
  },
  {
   "cell_type": "markdown",
   "metadata": {},
   "source": [
    "Un lycéen qui n'en peut plus des Maths mais qui a des notions de Python décide de scripter la résolution de son exercice.\n",
    "\n",
    "L'énoncé est le suivant :\n",
    "\"*Trouver des valeurs de a, b et c validant l'expression a + 2b + 3c = a + c tels que a != b != c a,b,c étant entiers*\""
   ]
  },
  {
   "cell_type": "markdown",
   "metadata": {},
   "source": [
    "Le lycéen commence donc par **définir ses variables** avec z3"
   ]
  },
  {
   "cell_type": "code",
   "execution_count": 135,
   "metadata": {},
   "outputs": [],
   "source": [
    "a = Int('a')  # définit une variable entière de valeur inconnue qui sera nommée comme 'a'\n",
    "b = Int('b')\n",
    "c = Int('c')\n",
    "\n",
    "solver = Solver()  # déclare une instance du solveur de contraintes"
   ]
  },
  {
   "cell_type": "markdown",
   "metadata": {},
   "source": [
    "Il explicite ensuite les **contraintes** de l'exercices"
   ]
  },
  {
   "cell_type": "code",
   "execution_count": 136,
   "metadata": {},
   "outputs": [],
   "source": [
    "# a != b != c\n",
    "solver.add(Distinct(a, b, c))\n",
    "solver.add(a + 2 * b + 3 * c == a + c)"
   ]
  },
  {
   "cell_type": "markdown",
   "metadata": {},
   "source": [
    "Il résout son exercice"
   ]
  },
  {
   "cell_type": "code",
   "execution_count": 137,
   "metadata": {},
   "outputs": [
    {
     "data": {
      "text/html": [
       "<b>sat</b>"
      ],
      "text/plain": [
       "sat"
      ]
     },
     "execution_count": 137,
     "metadata": {},
     "output_type": "execute_result"
    }
   ],
   "source": [
    "solver.check()"
   ]
  },
  {
   "cell_type": "markdown",
   "metadata": {},
   "source": [
    "*sat* signifie que les contraintes ont été satisfaites, autrement dit que le solveur a trouvé des solutions aux contraintes !"
   ]
  },
  {
   "cell_type": "code",
   "execution_count": 138,
   "metadata": {},
   "outputs": [
    {
     "data": {
      "text/html": [
       "[b = -1, a = -2, c = 1]"
      ],
      "text/plain": [
       "[b = -1, a = -2, c = 1]"
      ]
     },
     "execution_count": 138,
     "metadata": {},
     "output_type": "execute_result"
    }
   ],
   "source": [
    "solver.model()"
   ]
  },
  {
   "cell_type": "markdown",
   "metadata": {},
   "source": [
    "```-2 != -1 != 1```\n",
    "et\n",
    "```-2 + -1 * 3 + 1 * 3 = -2 + 1```\n",
    "<=>\n",
    "```-2 = -2```\n",
    "l'exercice est résolu !"
   ]
  },
  {
   "cell_type": "markdown",
   "metadata": {},
   "source": [
    "# Logique : opérations binaires"
   ]
  },
  {
   "cell_type": "markdown",
   "metadata": {},
   "source": [
    "Ok maintenant le lycéen va jouer à Minecraft. Il va sur un serveur de mini-jeux et joue à un jeu de redstone. \n",
    "Pour ceux qui ne voient pas du tout ce qu'est la redstone, imaginez un circuit composés d'entrées : les leviers (ON => 1, OFF => 0) et des portes logiques (AND, OR, XOR).\n",
    "\n",
    "Il a devant lui le circuit que l'on peut schématiser comme suit :\n",
    "\n",
    "```\n",
    "Levier 1 ===========\n",
    "                   |= AND =\n",
    "Levier 2 ===========      |= XOR =====\n",
    "                          |          |\n",
    "Levier 3 ==================          |== AND==>>\n",
    "                                     |\n",
    "Levier 4 =============================\n",
    "\n",
    "\"=\" et \"|\" représentent le circuit\n",
    "\">>\" représente la sortie\n",
    "```\n",
    "\n",
    "Le but du challenge, c'est d'activer les bons leviers pour qu'en sortie, on obtienne 1.\n",
    "Ayant un terrible enthousiasme pour z3, il décide d'utiliser ce framework pour résoudre l'épreuve au lieu de réfléchir 1 sec."
   ]
  },
  {
   "cell_type": "code",
   "execution_count": 139,
   "metadata": {},
   "outputs": [],
   "source": [
    "# on définit les leviers (sachant que True == 1 == levier activé)\n",
    "lev1 = Bool('lev1')\n",
    "lev2 = Bool('lev2')\n",
    "lev3 = Bool('lev3')\n",
    "lev4 = Bool('lev4')\n",
    "\n",
    "# on instancie notre solveur\n",
    "solver_minecraft = Solver()"
   ]
  },
  {
   "cell_type": "code",
   "execution_count": 140,
   "metadata": {},
   "outputs": [],
   "source": [
    "# on définit la logique de notre circuit\n",
    "op1 = And(lev1, lev2)\n",
    "op2 = Xor(op1, lev3)\n",
    "op3 = And(op2, lev4)\n",
    "\n",
    "solver_minecraft.add(op3)\n",
    "# Remarque : solver_minecraft.add(op3) == solver_minecraft.add(op3 == True)"
   ]
  },
  {
   "cell_type": "code",
   "execution_count": 141,
   "metadata": {},
   "outputs": [
    {
     "data": {
      "text/html": [
       "[lev1 = False, lev2 = False, lev3 = True, lev4 = True]"
      ],
      "text/plain": [
       "[lev1 = False, lev2 = False, lev3 = True, lev4 = True]"
      ]
     },
     "execution_count": 141,
     "metadata": {},
     "output_type": "execute_result"
    }
   ],
   "source": [
    "solver_minecraft.check()\n",
    "solver_minecraft.model()"
   ]
  },
  {
   "cell_type": "markdown",
   "metadata": {},
   "source": [
    "Une solution à ce problème est donc\n",
    "```\n",
    "    OFF  ==========\n",
    "                   |= AND =\n",
    "    OFF  ==========       |= XOR =====\n",
    "                          |          |\n",
    "     ON  ==================          |== AND==>> 1\n",
    "                                     |\n",
    "     ON  =============================\n",
    "```"
   ]
  },
  {
   "cell_type": "markdown",
   "metadata": {},
   "source": [
    "# On s'énerve un petit coup"
   ]
  },
  {
   "cell_type": "markdown",
   "metadata": {},
   "source": [
    "Bon maintenant on arrête l'histoire du lycéen et on se concentre sur de vrais problèmes."
   ]
  },
  {
   "cell_type": "markdown",
   "metadata": {},
   "source": [
    "### Sudoku basique"
   ]
  },
  {
   "cell_type": "markdown",
   "metadata": {},
   "source": [
    "Rappel : le but du sudoku est de placer dans les cases des nombres, chaque nombre devant être unique sur sa ligne ou colonne.\n",
    "Normalement il y a également la contrainte des zones que l'on va retirer ici pour commencer cette partie en douceur."
   ]
  },
  {
   "cell_type": "code",
   "execution_count": 142,
   "metadata": {
    "scrolled": true
   },
   "outputs": [
    {
     "name": "stdout",
     "output_type": "stream",
     "text": [
      "[i0_4 = 1,\n",
      " i1_1 = 2,\n",
      " i2_0 = 2,\n",
      " i3_2 = 2,\n",
      " i0_3 = 2,\n",
      " i2_3 = 5,\n",
      " i1_4 = 3,\n",
      " i2_4 = 4,\n",
      " i0_2 = 3,\n",
      " i3_3 = 3,\n",
      " i4_1 = 5,\n",
      " i3_4 = 5,\n",
      " i4_3 = 1,\n",
      " i1_2 = 5,\n",
      " i0_0 = 5,\n",
      " i4_0 = 3,\n",
      " i3_0 = 4,\n",
      " i2_1 = 3,\n",
      " i4_2 = 4,\n",
      " i1_0 = 1,\n",
      " i3_1 = 1,\n",
      " i1_3 = 4,\n",
      " i0_1 = 4,\n",
      " i4_4 = 2,\n",
      " i2_2 = 1]\n"
     ]
    }
   ],
   "source": [
    "def solve_sudoku(array: list) -> list:\n",
    "    \"\"\" solves the sudoku game defines in map\n",
    "    \n",
    "    :array is a list of sudoku game lines\n",
    "    :returns the completed sudoku\n",
    "    \"\"\"\n",
    "    solver = Solver()\n",
    "    ints = []\n",
    "    for line in range(len(array)):\n",
    "        ints.append([])\n",
    "        for element in range(len(array[line])):\n",
    "            ints[-1].append(Int(f\"i{element}_{line}\"))\n",
    "            solver.add(And(ints[-1][-1] <= len(array[line]), ints[-1][-1] >= 1))\n",
    "            if array[line][element] != 0:\n",
    "                solver.add(ints[-1][-1] == array[line][element])\n",
    "        solver.add(Distinct(ints[-1]))\n",
    "    for column in range(len(array)):\n",
    "        check_colomns = []\n",
    "        for line in range(len(ints)):\n",
    "            check_colomns.append(ints[line][column])\n",
    "        solver.add(Distinct(check_colomns))\n",
    "    solver.check()\n",
    "    return solver.model()\n",
    "\n",
    "\n",
    "game = [\n",
    "    [0, 0, 0, 0, 0],\n",
    "    [0, 0, 0, 0, 0],\n",
    "    [0, 0, 1, 0, 0],\n",
    "    [0, 0, 0, 0, 0],\n",
    "    [0, 0, 0, 0, 2]\n",
    "]\n",
    "\n",
    "res = solve_sudoku(game)\n",
    "print(res)"
   ]
  },
  {
   "cell_type": "markdown",
   "metadata": {},
   "source": [
    "Le résultat final est :\n",
    "```\n",
    "    5 4 3 2 1\n",
    "    1 2 5 4 3\n",
    "    2 3 1 5 4\n",
    "    4 1 2 3 5\n",
    "    3 5 4 1 2\n",
    "```"
   ]
  },
  {
   "cell_type": "markdown",
   "metadata": {},
   "source": [
    "### Chiffrement par xor répété : on va casser Vigenère"
   ]
  },
  {
   "cell_type": "markdown",
   "metadata": {},
   "source": [
    "**Point crypto rapide**\n",
    "*  par définition du xor, ```a ^ b = c``` <=> ```a ^ c == b```\n",
    "*  c'est le principe de base du chiffrement symétrique : a est la clé, b le message en clair et c le message chiffré\n",
    "*  \"aaa\" chiffré/xoré avec la clé \".\" donne \"OOO\" et \"OOO\" xoré avec \".\" donne \"aaa\"\n",
    "*  pour une clé à plus d'un octet, on fait un \"xor répété\" : \"iamlo\" chiffré avec \"abc\" revient à faire :\n",
    "```\n",
    "\"i\" ^ \"a\"\n",
    "\"a\" ^ \"b\"\n",
    "\"m\" ^ \"c\"\n",
    "\"l\" ^ \"a\"\n",
    "\"o\" ^ \"b\"\n",
    "```\n",
    "Cette méthode de chiffrement est dite de \"substitution polyalphabétique\" ou chiffrement de Vigenère.\n",
    "\n",
    "**L'exercice**\n",
    "\n",
    "On reçoit le message chiffré suivant : "
   ]
  },
  {
   "cell_type": "markdown",
   "metadata": {},
   "source": [
    "### Le problèmes des nqueens"
   ]
  },
  {
   "cell_type": "markdown",
   "metadata": {},
   "source": [
    "L'exercice des nqueens est un peu le hello world de l'algorithmie. Le but est très simple : on prend un échiquier  de n*n cases et le but est d'y placer le maximum de reines possibles sans qu'elles puissent s'attaquer. Pour rappel une reine peut attaquer sur toute une ligne, colonne ou diagonale.\n",
    "\n",
    "On part donc du constat qu'il est impossible d'avoir deux reines sur la même ligne."
   ]
  },
  {
   "cell_type": "code",
   "execution_count": 143,
   "metadata": {},
   "outputs": [
    {
     "data": {
      "text/html": [
       "[q5 = 2,\n",
       " q7 = 7,\n",
       " q3 = 1,\n",
       " q8 = 6,\n",
       " q2 = 4,\n",
       " q4 = 3,\n",
       " q6 = 5,\n",
       " q1 = 8]"
      ],
      "text/plain": [
       "[q5 = 2,\n",
       " q7 = 7,\n",
       " q3 = 1,\n",
       " q8 = 6,\n",
       " q2 = 4,\n",
       " q4 = 3,\n",
       " q6 = 5,\n",
       " q1 = 8]"
      ]
     },
     "execution_count": 143,
     "metadata": {},
     "output_type": "execute_result"
    }
   ],
   "source": [
    "queens = []\n",
    "n = 8  # n est le nombre de lignes et de colones\n",
    "nqueens_solver = Solver()\n",
    "for i in range(n):\n",
    "    # on nomme chaque reine qi avec i le numéro de leur ligne respective\n",
    "    queens.append(Int(f\"q{i+1}\"))\n",
    "    # on spécifie que les reines doivent être sur l'échiquier\n",
    "    nqueens_solver.add(And(queens[-1] >= 1, queens[-1] <= n))\n",
    "# on précise que aucune reine ne peut se retrouver sur la même colonne\n",
    "nqueens_solver.add(Distinct(queens))\n",
    "check_diags = []\n",
    "j = 0\n",
    "for i in range(j):\n",
    "    for j in range(n):\n",
    "        check_diags.append(\n",
    "            If (i == j, True, And(queens[i] - queens[j] != i - j, queens[i] - queens[j] != j - i))\n",
    "        )\n",
    "nqueens_solver.add(check_diags)\n",
    "\n",
    "nqueens_solver.check()\n",
    "nqueens_solver.model()"
   ]
  }
 ],
 "metadata": {
  "kernelspec": {
   "display_name": "Python 3",
   "language": "python",
   "name": "python3"
  },
  "language_info": {
   "codemirror_mode": {
    "name": "ipython",
    "version": 3
   },
   "file_extension": ".py",
   "mimetype": "text/x-python",
   "name": "python",
   "nbconvert_exporter": "python",
   "pygments_lexer": "ipython3",
   "version": "3.7.4"
  }
 },
 "nbformat": 4,
 "nbformat_minor": 2
}

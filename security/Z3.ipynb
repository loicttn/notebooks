{
 "cells": [
  {
   "cell_type": "markdown",
   "metadata": {},
   "source": [
    "# Z3 : un problème ? Pas de problème !"
   ]
  },
  {
   "cell_type": "code",
   "execution_count": 1,
   "metadata": {},
   "outputs": [],
   "source": [
    "from z3 import *  # la ligne qui ajoute 10 points de style"
   ]
  },
  {
   "cell_type": "markdown",
   "metadata": {},
   "source": [
    "## Avant-propos"
   ]
  },
  {
   "cell_type": "markdown",
   "metadata": {},
   "source": [
    "z3 est un **résolveur de contraintes** créé par Microsoft Research"
   ]
  },
  {
   "cell_type": "markdown",
   "metadata": {},
   "source": [
    "# Le lycéen fainéant"
   ]
  },
  {
   "cell_type": "markdown",
   "metadata": {},
   "source": [
    "Un lycéen qui n'en peut plus des Maths mais qui a des notions de Python décide de scripter la résolution de son exercice.\n",
    "\n",
    "L'énoncé est le suivant :\n",
    "\"*Trouver des valeurs de a, b et c validant l'expression a + 2b + 3c = a + c tels que a != b != c a,b,c étant entiers*\""
   ]
  },
  {
   "cell_type": "markdown",
   "metadata": {},
   "source": [
    "Le lycéen commence donc par **définir ses variables** avec z3"
   ]
  },
  {
   "cell_type": "code",
   "execution_count": 2,
   "metadata": {},
   "outputs": [],
   "source": [
    "a = Int('a')  # définit une variable entière de valeur inconnue qui sera nommée comme 'a'\n",
    "b = Int('b')\n",
    "c = Int('c')\n",
    "\n",
    "solver = Solver()  # déclare une instance du solveur de contraintes"
   ]
  },
  {
   "cell_type": "markdown",
   "metadata": {},
   "source": [
    "Il explicite ensuite les **contraintes** de l'exercices"
   ]
  },
  {
   "cell_type": "code",
   "execution_count": 3,
   "metadata": {},
   "outputs": [],
   "source": [
    "# a != b != c\n",
    "solver.add(Distinct(a, b, c))\n",
    "solver.add(a + 2 * b + 3 * c == a + c)"
   ]
  },
  {
   "cell_type": "markdown",
   "metadata": {},
   "source": [
    "Il résout son exercice"
   ]
  },
  {
   "cell_type": "code",
   "execution_count": 4,
   "metadata": {},
   "outputs": [
    {
     "data": {
      "text/html": [
       "<b>sat</b>"
      ],
      "text/plain": [
       "sat"
      ]
     },
     "execution_count": 4,
     "metadata": {},
     "output_type": "execute_result"
    }
   ],
   "source": [
    "solver.check()"
   ]
  },
  {
   "cell_type": "markdown",
   "metadata": {},
   "source": [
    "*sat* signifie que les contraintes ont été satisfaites, autrement dit que le solveur a trouvé des solutions aux contraintes !"
   ]
  },
  {
   "cell_type": "code",
   "execution_count": 5,
   "metadata": {},
   "outputs": [
    {
     "data": {
      "text/html": [
       "[b = -1, a = -2, c = 1]"
      ],
      "text/plain": [
       "[b = -1, a = -2, c = 1]"
      ]
     },
     "execution_count": 5,
     "metadata": {},
     "output_type": "execute_result"
    }
   ],
   "source": [
    "solver.model()"
   ]
  },
  {
   "cell_type": "markdown",
   "metadata": {},
   "source": [
    "```-2 != -1 != 1```\n",
    "et\n",
    "```-2 + -1 * 3 + 1 * 3 = -2 + 1```\n",
    "<=>\n",
    "```-2 = -2```\n",
    "l'exercice est résolu !"
   ]
  },
  {
   "cell_type": "markdown",
   "metadata": {},
   "source": [
    "# Logique : opérations binaires"
   ]
  },
  {
   "cell_type": "markdown",
   "metadata": {},
   "source": [
    "Ok maintenant le lycéen va jouer à Minecraft. Il va sur un serveur de mini-jeux et joue à un jeu de redstone. \n",
    "Pour ceux qui ne voient pas du tout ce qu'est la redstone, imaginez un circuit composés d'entrées : les leviers (ON => 1, OFF => 0) et des portes logiques (AND, OR, XOR).\n",
    "\n",
    "Il a devant lui le circuit que l'on peut schématiser comme suit :\n",
    "\n",
    "```\n",
    "Levier 1 ===========\n",
    "                   |= AND =\n",
    "Levier 2 ===========      |= XOR =====\n",
    "                          |          |\n",
    "Levier 3 ==================          |== AND==>>\n",
    "                                     |\n",
    "Levier 4 =============================\n",
    "\n",
    "\"=\" et \"|\" représentent le circuit\n",
    "\">>\" représente la sortie\n",
    "```\n",
    "\n",
    "Le but du challenge, c'est d'activer les bons leviers pour qu'en sortie, on obtienne 1.\n",
    "Ayant un terrible enthousiasme pour z3, il décide d'utiliser ce framework pour résoudre l'épreuve au lieu de réfléchir 1 sec."
   ]
  },
  {
   "cell_type": "code",
   "execution_count": 6,
   "metadata": {},
   "outputs": [],
   "source": [
    "# on définit les leviers (sachant que True == 1 == levier activé)\n",
    "lev1 = Bool('lev1')\n",
    "lev2 = Bool('lev2')\n",
    "lev3 = Bool('lev3')\n",
    "lev4 = Bool('lev4')\n",
    "\n",
    "# on instancie notre solveur\n",
    "solver_minecraft = Solver()"
   ]
  },
  {
   "cell_type": "code",
   "execution_count": 7,
   "metadata": {},
   "outputs": [],
   "source": [
    "# on définit la logique de notre circuit\n",
    "op1 = And(lev1, lev2)\n",
    "op2 = Xor(op1, lev3)\n",
    "op3 = And(op2, lev4)\n",
    "\n",
    "solver_minecraft.add(op3)\n",
    "# Remarque : solver_minecraft.add(op3) == solver_minecraft.add(op3 == True)"
   ]
  },
  {
   "cell_type": "code",
   "execution_count": 8,
   "metadata": {},
   "outputs": [
    {
     "data": {
      "text/html": [
       "[lev1 = False, lev2 = False, lev3 = True, lev4 = True]"
      ],
      "text/plain": [
       "[lev1 = False, lev2 = False, lev3 = True, lev4 = True]"
      ]
     },
     "execution_count": 8,
     "metadata": {},
     "output_type": "execute_result"
    }
   ],
   "source": [
    "solver_minecraft.check()\n",
    "solver_minecraft.model()"
   ]
  },
  {
   "cell_type": "markdown",
   "metadata": {},
   "source": [
    "Une solution à ce problème est donc\n",
    "```\n",
    "    OFF  ==========\n",
    "                   |= AND =\n",
    "    OFF  ==========       |= XOR =====\n",
    "                          |          |\n",
    "     ON  ==================          |== AND==>> 1\n",
    "                                     |\n",
    "     ON  =============================\n",
    "```"
   ]
  },
  {
   "cell_type": "markdown",
   "metadata": {},
   "source": [
    "# On s'énerve un petit coup"
   ]
  },
  {
   "cell_type": "markdown",
   "metadata": {},
   "source": [
    "Bon maintenant on arrête l'histoire du lycéen et on se concentre sur de vrais problèmes."
   ]
  },
  {
   "cell_type": "markdown",
   "metadata": {},
   "source": [
    "### Sudoku basique"
   ]
  },
  {
   "cell_type": "markdown",
   "metadata": {},
   "source": [
    "Rappel : le but du sudoku est de placer dans les cases des nombres, chaque nombre devant être unique sur sa ligne ou colonne.\n",
    "Normalement il y a également la contrainte des zones que l'on va retirer ici pour commencer cette partie en douceur."
   ]
  },
  {
   "cell_type": "code",
   "execution_count": 9,
   "metadata": {
    "scrolled": true
   },
   "outputs": [
    {
     "name": "stdout",
     "output_type": "stream",
     "text": [
      "[i0_4 = 1,\n",
      " i1_1 = 5,\n",
      " i2_0 = 5,\n",
      " i3_2 = 3,\n",
      " i0_3 = 5,\n",
      " i2_3 = 3,\n",
      " i1_4 = 3,\n",
      " i2_4 = 4,\n",
      " i0_2 = 2,\n",
      " i3_3 = 4,\n",
      " i4_1 = 3,\n",
      " i3_4 = 5,\n",
      " i4_3 = 1,\n",
      " i1_2 = 4,\n",
      " i0_0 = 3,\n",
      " i4_0 = 4,\n",
      " i3_0 = 2,\n",
      " i2_1 = 2,\n",
      " i4_2 = 5,\n",
      " i1_0 = 1,\n",
      " i3_1 = 1,\n",
      " i1_3 = 2,\n",
      " i0_1 = 4,\n",
      " i4_4 = 2,\n",
      " i2_2 = 1]\n"
     ]
    }
   ],
   "source": [
    "def solve_sudoku(array: list) -> list or None:\n",
    "    \"\"\" solves the sudoku game defines in map\n",
    "    \n",
    "    each element of the array will be transformed to z3 Int and\n",
    "    constraints are added to specify that each line and colomn\n",
    "    must not contain equal numbers\n",
    "    \n",
    "    :array is a list of sudoku game lines\n",
    "    :returns the completed sudoku\n",
    "    \"\"\"\n",
    "    solver = Solver()\n",
    "    # double tableau ou chaque élément va être une instance Int()\n",
    "    ints = []\n",
    "    for line in range(len(array)):\n",
    "        ints.append([])\n",
    "        for element in range(len(array[line])):\n",
    "            # on nomme chaque élément iCOLONNE_LIGNE\n",
    "            ints[-1].append(Int(f\"i{element}_{line}\"))\n",
    "            # tous les nombres doivent être compris entre 1 et le nombre d'éléments sur la ligne\n",
    "            solver.add(And(ints[-1][-1] <= len(array[line]), ints[-1][-1] >= 1))\n",
    "            # si l'élément actuel est initialisé, on ajoute la contrainte élément == valeur d'initialisation\n",
    "            if array[line][element] != 0:\n",
    "                solver.add(ints[-1][-1] == array[line][element])\n",
    "        # chaque élément de la ligne qui vient d'être ajoutée doit être unique\n",
    "        solver.add(Distinct(ints[-1]))\n",
    "    # on créé des tableaux pour chaque colonne et on précise que chaque élément sur la colonne doit être unique\n",
    "    for column in range(len(array)):\n",
    "        check_colomns = []\n",
    "        for line in range(len(ints)):\n",
    "            check_colomns.append(ints[line][column])\n",
    "        solver.add(Distinct(check_colomns))\n",
    "    # on solve les contraintes\n",
    "    c = solver.check()\n",
    "    if c is unsat:\n",
    "        print(\"No solution found, are you sure the puzzle can be solve ?\")\n",
    "        return None\n",
    "    return solver.model()\n",
    "\n",
    "\n",
    "game = [\n",
    "    [0, 0, 0, 0, 0],\n",
    "    [0, 0, 0, 0, 0],\n",
    "    [0, 0, 1, 0, 0],\n",
    "    [0, 0, 0, 0, 0],\n",
    "    [0, 0, 0, 0, 2]\n",
    "]\n",
    "\n",
    "res = solve_sudoku(game)\n",
    "print(res)"
   ]
  },
  {
   "cell_type": "markdown",
   "metadata": {},
   "source": [
    "Le résultat final est :\n",
    "```\n",
    "    5 4 3 2 1\n",
    "    1 2 5 4 3\n",
    "    2 3 1 5 4\n",
    "    4 1 2 3 5\n",
    "    3 5 4 1 2\n",
    "```"
   ]
  },
  {
   "cell_type": "markdown",
   "metadata": {},
   "source": [
    "### Collision de hashs"
   ]
  },
  {
   "cell_type": "markdown",
   "metadata": {},
   "source": [
    "Un hash est une fonction mathématique qui :\n",
    "*  n'est **pas réversible** hash(a) = b mais pas de fonction telle que hash⁻¹(b) = a !\n",
    "*  pour chaque valeur de a, il existe une **unique** valeur b\n",
    "\n",
    "\n",
    "Il existe plusieurs fonctions de hash, comme MD5, SHA(1,2,3) ...\n",
    "Un hash permet par exemple de stocker des mots de passe de manière safe : si on se fait voler la base de données, l'attaquant ne peut pas retrouver les mots de passe à partir des hash.\n",
    "\n",
    "\n",
    "Certaines fonctions de hash (comme MD5) sont vulnérables aux **attaques par collision**. Le but d'une collision est de trouver deux inputs différents dont le résultat du hash est identique.\n",
    "hash(a) = b = hash(c) and a != c => collision"
   ]
  },
  {
   "cell_type": "code",
   "execution_count": 24,
   "metadata": {},
   "outputs": [
    {
     "name": "stdout",
     "output_type": "stream",
     "text": [
      "res1 = \"k{S\u001ff\u001e",
      "y\" res2 = \"{Lt\u001e",
      "Ai(\"\n"
     ]
    },
    {
     "data": {
      "text/plain": [
       "True"
      ]
     },
     "execution_count": 24,
     "metadata": {},
     "output_type": "execute_result"
    }
   ],
   "source": [
    "from hashlib import md5\n",
    "\n",
    "def H(input_bytes):\n",
    "    '''This idea comes directly from awesome James Forshaw, read his blogpost:\n",
    "    http://tyranidslair.blogspot.co.uk/2014/09/generating-hash-collisions.html'''\n",
    "    h = 0\n",
    "    for byte in input_bytes:\n",
    "        h = h * 31 + ZeroExt(24, byte)\n",
    "    return h\n",
    "\n",
    "def print_res(solver, size):\n",
    "    m = solver.model()\n",
    "    result = sorted([[d, m[d]] for d in m], key = lambda x: str(x[0]))\n",
    "    res1 = ''\n",
    "    xd =[[], []]\n",
    "    for i in range(size):\n",
    "        res1 += chr(result[i][1].as_long())\n",
    "        xd[0].append(result[i][1])\n",
    "    res2 = ''\n",
    "    for i in range(size):\n",
    "        res2 += chr(result[size + i][1].as_long())\n",
    "        xd[1].append(result[i][1])\n",
    "    print(f\"res1 = \\\"{res1}\\\"\", f\"res2 = \\\"{res2}\\\"\")\n",
    "\n",
    "def check_collision(size: int, hash_fn: object) -> bool:\n",
    "    \"\"\" checks if the given hash fonction can be exploited with a collision attack on input of given size\n",
    "    \n",
    "    :size size of the inputs to check collision\n",
    "    :hash_fn hash function that must take as parameter a byte array\n",
    "    :returns True if collision was found with given size\n",
    "    \"\"\"\n",
    "    # on crée deux inputs composés de valeurs de 8bits (un octet)\n",
    "    solver = Solver()\n",
    "    input1 = [BitVec(f\"input1_{i}\", 8) for i in range(size)]\n",
    "    input2 = [BitVec(f\"input2_{i}\", 8) for i in range(size)]\n",
    "    for i in input1:\n",
    "        solver.add(And(i >= 30, i <= 126))\n",
    "    for i in input2:\n",
    "        solver.add(And(i >= 30, i <= 126))\n",
    "    solver.add(H(input1) == H(input2))\n",
    "    solver.add(input1 != input2)\n",
    "    if solver.check():\n",
    "        print_res(solver, size)\n",
    "        return True\n",
    "    return False\n",
    "\n",
    "check_collision(7, H)"
   ]
  },
  {
   "cell_type": "markdown",
   "metadata": {},
   "source": [
    "### Chiffrement par xor répété : on va casser Vigenère"
   ]
  },
  {
   "cell_type": "markdown",
   "metadata": {},
   "source": [
    "**Point crypto rapide**\n",
    "*  par définition du xor, ```a ^ b = c``` <=> ```a ^ c == b```\n",
    "*  c'est le principe de base du chiffrement symétrique : a est la clé, b le message en clair et c le message chiffré\n",
    "*  \"aaa\" chiffré/xoré avec la clé \".\" donne \"OOO\" et \"OOO\" xoré avec \".\" donne \"aaa\"\n",
    "*  pour une clé à plus d'un octet, on fait un \"xor répété\" : \"iamlo\" chiffré avec \"abc\" revient à faire :\n",
    "```\n",
    "\"i\" ^ \"a\"\n",
    "\"a\" ^ \"b\"\n",
    "\"m\" ^ \"c\"\n",
    "\"l\" ^ \"a\"\n",
    "\"o\" ^ \"b\"\n",
    "```\n",
    "Cette méthode de chiffrement est dite de \"substitution polyalphabétique\" ou chiffrement de Vigenère.\n",
    "\n",
    "**L'exercice**\n",
    "\n",
    "On reçoit le message chiffré suivant : "
   ]
  },
  {
   "cell_type": "markdown",
   "metadata": {},
   "source": [
    "### Le problèmes des nqueens"
   ]
  },
  {
   "cell_type": "markdown",
   "metadata": {},
   "source": [
    "L'exercice des nqueens est un peu le hello world de l'algorithmie. Le but est très simple : on prend un échiquier  de n*n cases et le but est d'y placer le maximum de reines possibles sans qu'elles puissent s'attaquer. Pour rappel une reine peut attaquer sur toute une ligne, colonne ou diagonale.\n",
    "\n",
    "On part donc du constat qu'il est impossible d'avoir deux reines sur la même ligne."
   ]
  },
  {
   "cell_type": "code",
   "execution_count": 12,
   "metadata": {},
   "outputs": [
    {
     "data": {
      "text/html": [
       "[q5 = 3,\n",
       " q7 = 5,\n",
       " q3 = 8,\n",
       " q8 = 4,\n",
       " q2 = 7,\n",
       " q4 = 1,\n",
       " q6 = 2,\n",
       " q1 = 6]"
      ],
      "text/plain": [
       "[q5 = 3,\n",
       " q7 = 5,\n",
       " q3 = 8,\n",
       " q8 = 4,\n",
       " q2 = 7,\n",
       " q4 = 1,\n",
       " q6 = 2,\n",
       " q1 = 6]"
      ]
     },
     "execution_count": 12,
     "metadata": {},
     "output_type": "execute_result"
    }
   ],
   "source": [
    "queens = []\n",
    "n = 8  # n est le nombre de lignes et de colones\n",
    "nqueens_solver = Solver()\n",
    "for i in range(n):\n",
    "    # on nomme chaque reine qi avec i le numéro de leur ligne respective\n",
    "    queens.append(Int(f\"q{i+1}\"))\n",
    "    # on spécifie que les reines doivent être sur l'échiquier\n",
    "    nqueens_solver.add(And(queens[-1] >= 1, queens[-1] <= n))\n",
    "# on précise que aucune reine ne peut se retrouver sur la même colonne\n",
    "nqueens_solver.add(Distinct(queens))\n",
    "check_diags = []\n",
    "j = 0\n",
    "for i in range(j):\n",
    "    for j in range(n):\n",
    "        check_diags.append(\n",
    "            If (i == j, True, And(queens[i] - queens[j] != i - j, queens[i] - queens[j] != j - i))\n",
    "        )\n",
    "nqueens_solver.add(check_diags)\n",
    "\n",
    "nqueens_solver.check()\n",
    "nqueens_solver.model()"
   ]
  }
 ],
 "metadata": {
  "kernelspec": {
   "display_name": "Python 3",
   "language": "python",
   "name": "python3"
  },
  "language_info": {
   "codemirror_mode": {
    "name": "ipython",
    "version": 3
   },
   "file_extension": ".py",
   "mimetype": "text/x-python",
   "name": "python",
   "nbconvert_exporter": "python",
   "pygments_lexer": "ipython3",
   "version": "3.7.4"
  }
 },
 "nbformat": 4,
 "nbformat_minor": 2
}

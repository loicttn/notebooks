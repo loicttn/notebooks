{
 "cells": [
  {
   "cell_type": "markdown",
   "metadata": {},
   "source": [
    "# Z3 : un problème ? Pas de problème !"
   ]
  },
  {
   "cell_type": "code",
   "execution_count": 103,
   "metadata": {},
   "outputs": [],
   "source": [
    "from z3 import *  # yeah maaaan"
   ]
  },
  {
   "cell_type": "markdown",
   "metadata": {},
   "source": [
    "## Avant-propos"
   ]
  },
  {
   "cell_type": "markdown",
   "metadata": {},
   "source": [
    "z3 est un **solveur de contraintes** créé par Microsoft Research. En des termes plus techniques, c'est un  *Satisfiability Modulo Theories solver* (SMT solver).\n",
    "\n",
    "Ce que ça veut dire, c'est que vous allez lui donner des **contraintes** (une équation avec une inconnue par exemple) et il va transformer cette contrainte en variables booléennes. Ensuite il évalue la cohérente du modèle puis essaye de le satisfaire, en trouvant les inconnues d'une équation par exemple.\n",
    "\n",
    "On va apprendre à utiliser z3 pour résoudre des problèmes de logique simples et plus avancés comme le **sudoku**, les **nqueens** ou encore un **crackme**."
   ]
  },
  {
   "cell_type": "markdown",
   "metadata": {},
   "source": [
    "# Le lycéen fainéant"
   ]
  },
  {
   "cell_type": "markdown",
   "metadata": {},
   "source": [
    "Un lycéen qui n'en peut plus des Maths mais qui a des notions de Python décide de scripter la résolution de son exercice.\n",
    "\n",
    "L'énoncé est le suivant :\n",
    "\"*Trouver des valeurs de a, b et c validant l'expression a + 2b + 3c = a + c tels que a != b != c a,b,c étant entiers*\""
   ]
  },
  {
   "cell_type": "markdown",
   "metadata": {},
   "source": [
    "Le lycéen commence donc par **définir ses variables** avec z3"
   ]
  },
  {
   "cell_type": "code",
   "execution_count": 104,
   "metadata": {},
   "outputs": [],
   "source": [
    "a = Int('a')  # définit une variable entière de valeur inconnue qui sera nommée comme 'a'\n",
    "b = Int('b')\n",
    "c = Int('c')\n",
    "\n",
    "solver = Solver()  # déclare une instance du solveur de contraintes"
   ]
  },
  {
   "cell_type": "markdown",
   "metadata": {},
   "source": [
    "Il explicite ensuite les **contraintes** de l'exercice"
   ]
  },
  {
   "cell_type": "code",
   "execution_count": 105,
   "metadata": {},
   "outputs": [],
   "source": [
    "# a != b != c\n",
    "solver.add(Distinct(a, b, c))\n",
    "solver.add(a + 2 * b + 3 * c == a + c)"
   ]
  },
  {
   "cell_type": "markdown",
   "metadata": {},
   "source": [
    "Il résout son exercice"
   ]
  },
  {
   "cell_type": "code",
   "execution_count": 106,
   "metadata": {},
   "outputs": [
    {
     "data": {
      "text/html": [
       "<b>sat</b>"
      ],
      "text/plain": [
       "sat"
      ]
     },
     "execution_count": 106,
     "metadata": {},
     "output_type": "execute_result"
    }
   ],
   "source": [
    "solver.check()"
   ]
  },
  {
   "cell_type": "markdown",
   "metadata": {},
   "source": [
    "*sat* signifie que les contraintes ont été satisfaites, autrement dit que le solveur a trouvé des solutions aux contraintes !"
   ]
  },
  {
   "cell_type": "code",
   "execution_count": 107,
   "metadata": {},
   "outputs": [
    {
     "data": {
      "text/html": [
       "[b = -1, a = -2, c = 1]"
      ],
      "text/plain": [
       "[b = -1, a = -2, c = 1]"
      ]
     },
     "execution_count": 107,
     "metadata": {},
     "output_type": "execute_result"
    }
   ],
   "source": [
    "solver.model()"
   ]
  },
  {
   "cell_type": "markdown",
   "metadata": {},
   "source": [
    "```-2 != -1 != 1```\n",
    "et\n",
    "```-2 + -1 * 3 + 1 * 3 = -2 + 1```\n",
    "<=>\n",
    "```-2 = -2```\n",
    "l'exercice est résolu !"
   ]
  },
  {
   "cell_type": "markdown",
   "metadata": {},
   "source": [
    "*Note: pour débugguer vos contraintes, vous pouvez afficher votre solveur !*"
   ]
  },
  {
   "cell_type": "code",
   "execution_count": 108,
   "metadata": {},
   "outputs": [
    {
     "name": "stdout",
     "output_type": "stream",
     "text": [
      "[Distinct(a, b, c), a + 2*b + 3*c == a + c]\n"
     ]
    }
   ],
   "source": [
    "print(solver)"
   ]
  },
  {
   "cell_type": "markdown",
   "metadata": {},
   "source": [
    "Note2: On aurait aussi pu commencer par simplifier l'expressions avec simplify() !"
   ]
  },
  {
   "cell_type": "code",
   "execution_count": 109,
   "metadata": {},
   "outputs": [
    {
     "data": {
      "text/html": [
       "2&middot;b + 2&middot;c = 0"
      ],
      "text/plain": [
       "2*b + 2*c == 0"
      ]
     },
     "execution_count": 109,
     "metadata": {},
     "output_type": "execute_result"
    }
   ],
   "source": [
    "simplify(a + 2 * b + 3 * c == a + c)"
   ]
  },
  {
   "cell_type": "markdown",
   "metadata": {},
   "source": [
    "# Petit challenge de logique"
   ]
  },
  {
   "cell_type": "markdown",
   "metadata": {},
   "source": [
    "Ok maintenant le lycéen va jouer à Minecraft. Il va sur un serveur de mini-jeux et joue à un jeu de redstone. \n",
    "Pour ceux qui ne voient pas du tout ce qu'est la redstone, imaginez un circuit composé d'**entrées** : les leviers (ON => 1, OFF => 0) et de **portes logiques** (AND, OR, XOR).\n",
    "\n",
    "Il a devant lui le circuit que l'on peut schématiser comme suit :\n",
    "\n",
    "```\n",
    "Levier 1 ===========\n",
    "                   |= AND =\n",
    "Levier 2 ===========      |= XOR =====\n",
    "                          |          |\n",
    "Levier 3 ==================          |== AND==>>\n",
    "                                     |\n",
    "Levier 4 =============================\n",
    "\n",
    "\"=\" et \"|\" représentent le circuit\n",
    "\">>\" représente la sortie\n",
    "```\n",
    "\n",
    "Le but du challenge, c'est d'activer les bons leviers pour qu'en sortie, on obtienne 1.\n",
    "Ayant un terrible enthousiasme pour z3, il décide d'utiliser ce framework pour résoudre l'épreuve au lieu de réfléchir 1 sec."
   ]
  },
  {
   "cell_type": "code",
   "execution_count": 110,
   "metadata": {},
   "outputs": [],
   "source": [
    "# on définit les leviers (sachant que True == 1 == levier activé)\n",
    "lev1 = Bool('lev1')\n",
    "lev2 = Bool('lev2')\n",
    "lev3 = Bool('lev3')\n",
    "lev4 = Bool('lev4')\n",
    "\n",
    "# on instancie notre solveur\n",
    "solver = Solver()"
   ]
  },
  {
   "cell_type": "code",
   "execution_count": 111,
   "metadata": {},
   "outputs": [],
   "source": [
    "# on définit la logique de notre circuit\n",
    "op1 = And(lev1, lev2)\n",
    "op2 = Xor(op1, lev3)\n",
    "op3 = And(op2, lev4)\n",
    "\n",
    "solver.add(op3)\n",
    "# Remarque : solver.add(op3) == solver.add(op3 == True)"
   ]
  },
  {
   "cell_type": "code",
   "execution_count": 112,
   "metadata": {},
   "outputs": [
    {
     "name": "stdout",
     "output_type": "stream",
     "text": [
      "[And(Xor(And(lev1, lev2), lev3), lev4)]\n",
      "\n",
      "And(Not(And(lev1, lev2)) == lev3, lev4)\n"
     ]
    }
   ],
   "source": [
    "# pour info\n",
    "print(solver)\n",
    "print()\n",
    "print(simplify(op3))"
   ]
  },
  {
   "cell_type": "code",
   "execution_count": 113,
   "metadata": {},
   "outputs": [],
   "source": [
    "if solver.check() == sat:\n",
    "    solver.model()"
   ]
  },
  {
   "cell_type": "markdown",
   "metadata": {},
   "source": [
    "Une solution à ce problème est donc\n",
    "```\n",
    "    OFF  ==========\n",
    "                   |= AND =\n",
    "    OFF  ==========       |= XOR =====\n",
    "                          |          |\n",
    "     ON  ==================          |== AND==>> 1\n",
    "                                     |\n",
    "     ON  =============================\n",
    "```\n",
    "Si vous voulez voir quelque chose dans le même genre mais bien plus avancé :\n",
    "[![LiveOverflowZ3](https://img.youtube.com/vi/nI8Q1bqT8QU/0.jpg)](https://youtu.be/nI8Q1bqT8QU)"
   ]
  },
  {
   "cell_type": "markdown",
   "metadata": {},
   "source": [
    "# On s'énerve un petit coup"
   ]
  },
  {
   "cell_type": "markdown",
   "metadata": {},
   "source": [
    "Bon maintenant on arrête l'histoire du lycéen et on se concentre sur de **vrais problèmes**."
   ]
  },
  {
   "cell_type": "markdown",
   "metadata": {},
   "source": [
    "### Sudoku"
   ]
  },
  {
   "cell_type": "markdown",
   "metadata": {},
   "source": [
    "Rappel : le but du sudoku est de placer dans les cases des nombres, chaque nombre devant être unique sur sa ligne ou colonne.\n",
    "Normalement il y a plusieurs zones dans un sudoku, ici on va simplement en considérer une (l'algorithme se répétant dans le cas de plusieurs zones)."
   ]
  },
  {
   "cell_type": "code",
   "execution_count": 114,
   "metadata": {
    "scrolled": true
   },
   "outputs": [
    {
     "name": "stdout",
     "output_type": "stream",
     "text": [
      "[i0_4 = 4,\n",
      " i1_1 = 1,\n",
      " i2_0 = 4,\n",
      " i3_2 = 2,\n",
      " i0_3 = 2,\n",
      " i2_3 = 5,\n",
      " i1_4 = 5,\n",
      " i2_4 = 3,\n",
      " i0_2 = 3,\n",
      " i3_3 = 4,\n",
      " i4_1 = 4,\n",
      " i3_4 = 1,\n",
      " i4_3 = 1,\n",
      " i1_2 = 4,\n",
      " i0_0 = 1,\n",
      " i4_0 = 3,\n",
      " i3_0 = 5,\n",
      " i2_1 = 2,\n",
      " i4_2 = 5,\n",
      " i1_0 = 2,\n",
      " i3_1 = 3,\n",
      " i1_3 = 3,\n",
      " i0_1 = 5,\n",
      " i4_4 = 2,\n",
      " i2_2 = 1]\n"
     ]
    },
    {
     "data": {
      "text/plain": [
       "True"
      ]
     },
     "execution_count": 114,
     "metadata": {},
     "output_type": "execute_result"
    }
   ],
   "source": [
    "def solve_sudoku(array: list) -> bool:\n",
    "    \"\"\" solves the sudoku game defined in map\n",
    "    \n",
    "    each element of the array will be transformed to z3 Int and\n",
    "    constraints are added to specify that each line and colomn\n",
    "    must not contain equal numbers\n",
    "    \n",
    "    :array is a list of sudoku game lines\n",
    "    :returns True if sudoku was completed successfully\n",
    "    \"\"\"\n",
    "    solver = Solver()\n",
    "    # double tableau ou chaque élément va être une instance Int()\n",
    "    ints = []\n",
    "    for line in range(len(array)):\n",
    "        ints.append([])\n",
    "        for element in range(len(array[line])):\n",
    "            # on nomme chaque élément iCOLONNE_LIGNE\n",
    "            ints[-1].append(Int(f\"i{element}_{line}\"))\n",
    "            # tous les nombres doivent être compris entre 1 et le nombre d'éléments sur la ligne\n",
    "            solver.add(And(ints[-1][-1] <= len(array[line]), ints[-1][-1] >= 1))\n",
    "            # si l'élément actuel est initialisé, on ajoute la contrainte élément == valeur d'initialisation\n",
    "            if array[line][element] != 0:\n",
    "                solver.add(ints[-1][-1] == array[line][element])\n",
    "        # chaque élément de la ligne qui vient d'être ajoutée doit être unique\n",
    "        solver.add(Distinct(ints[-1]))\n",
    "    # on créé des tableaux pour chaque colonne et on précise que chaque élément sur la colonne doit être unique\n",
    "    for column in range(len(array)):\n",
    "        check_colomns = []\n",
    "        for line in range(len(ints)):\n",
    "            check_colomns.append(ints[line][column])\n",
    "        solver.add(Distinct(check_colomns))\n",
    "    # on solve les contraintes\n",
    "    c = solver.check()\n",
    "    if c == unsat:\n",
    "        print(\"No solution found, are you sure the puzzle can be solve ?\")\n",
    "        return False\n",
    "    print(solver.model())\n",
    "    return True\n",
    "\n",
    "\n",
    "game = [\n",
    "    [0, 0, 0, 0, 0],\n",
    "    [0, 0, 0, 0, 0],\n",
    "    [0, 0, 1, 0, 0],\n",
    "    [0, 0, 0, 0, 0],\n",
    "    [0, 0, 0, 0, 2]\n",
    "]\n",
    "\n",
    "solve_sudoku(game)"
   ]
  },
  {
   "cell_type": "markdown",
   "metadata": {},
   "source": [
    "Le résultat final est :\n",
    "```\n",
    "    5 4 3 2 1\n",
    "    1 2 5 4 3\n",
    "    2 3 1 5 4\n",
    "    4 1 2 3 5\n",
    "    3 5 4 1 2\n",
    "```"
   ]
  },
  {
   "cell_type": "markdown",
   "metadata": {},
   "source": [
    "### Le problèmes des nqueens"
   ]
  },
  {
   "cell_type": "markdown",
   "metadata": {},
   "source": [
    "L'exercice des nqueens est un peu le hello world de l'algorithmie. Le but est très simple : on prend un échiquier  de n x n cases et le but est d'y placer n reines sans qu'elles puissent s'attaquer. Pour rappel une reine peut attaquer sur toute une ligne, colonne ou diagonale.\n",
    "\n",
    "Pour résoudre ce problème, on réalise normalement un algorithme de backtracking. Ici pas besoin : avec z3 on exprime juste notre problème sous forme de contraintes !\n",
    "\n",
    "On part donc du constat qu'il est impossible d'avoir deux reines sur la même ligne."
   ]
  },
  {
   "cell_type": "code",
   "execution_count": 115,
   "metadata": {
    "scrolled": true
   },
   "outputs": [
    {
     "name": "stdout",
     "output_type": "stream",
     "text": [
      "sat\n",
      "8\n",
      "O O O O O O O █\n",
      "O █ O O O O O O\n",
      "O O O O █ O O O\n",
      "O O █ O O O O O\n",
      "█ O O O O O O O\n",
      "O O O O O O █ O\n",
      "O O O █ O O O O\n",
      "O O O O O █ O O\n",
      "\n",
      "sat\n",
      "8\n",
      "O O O O O O █ O\n",
      "O O O █ O O O O\n",
      "O █ O O O O O O\n",
      "O O O O O O O █\n",
      "O O O O O █ O O\n",
      "█ O O O O O O O\n",
      "O O █ O O O O O\n",
      "O O O O █ O O O\n",
      "\n",
      "sat\n",
      "8\n",
      "O O O █ O O O O\n",
      "O O O O O █ O O\n",
      "█ O O O O O O O\n",
      "O O O O █ O O O\n",
      "O █ O O O O O O\n",
      "O O O O O O O █\n",
      "O O █ O O O O O\n",
      "O O O O O O █ O\n",
      "\n",
      "sat\n",
      "8\n",
      "O █ O O O O O O\n",
      "O O O O █ O O O\n",
      "O O O O O O █ O\n",
      "O O O █ O O O O\n",
      "█ O O O O O O O\n",
      "O O O O O O O █\n",
      "O O O O O █ O O\n",
      "O O █ O O O O O\n",
      "\n",
      "sat\n",
      "8\n",
      "O O O █ O O O O\n",
      "O █ O O O O O O\n",
      "O O O O █ O O O\n",
      "O O O O O O O █\n",
      "O O O O O █ O O\n",
      "█ O O O O O O O\n",
      "O O █ O O O O O\n",
      "O O O O O O █ O\n",
      "\n",
      "sat\n",
      "8\n",
      "O O O O █ O O O\n",
      "O O O O O O █ O\n",
      "O O O █ O O O O\n",
      "█ O O O O O O O\n",
      "O O █ O O O O O\n",
      "O O O O O O O █\n",
      "O O O O O █ O O\n",
      "O █ O O O O O O\n",
      "\n",
      "sat\n",
      "8\n",
      "O O O O O O O █\n",
      "O O █ O O O O O\n",
      "█ O O O O O O O\n",
      "O O O O O █ O O\n",
      "O █ O O O O O O\n",
      "O O O O █ O O O\n",
      "O O O O O O █ O\n",
      "O O O █ O O O O\n",
      "\n",
      "sat\n",
      "8\n",
      "O O O O █ O O O\n",
      "█ O O O O O O O\n",
      "O O O O O O O █\n",
      "O O O O O █ O O\n",
      "O O █ O O O O O\n",
      "O O O O O O █ O\n",
      "O █ O O O O O O\n",
      "O O O █ O O O O\n",
      "\n"
     ]
    }
   ],
   "source": [
    "def print_chess(size: int, m: list) -> None:\n",
    "    \"\"\"displays solved chessboard\n",
    "    \n",
    "    :size width and height of the chessboard\n",
    "    :m result of solver.model()\n",
    "    \"\"\"\n",
    "    res = sorted([[d, m[d]] for d in m], key = lambda x: str(x[0]))\n",
    "    j = 0\n",
    "    print(str(res).count(\"1]\"))\n",
    "    for i in range(len(res)):\n",
    "        if j < size - 1:\n",
    "            print(\"O\" if (res[i][1].as_long() == 0) else chr(0x2588), end=\"\")\n",
    "        if j == size - 1:\n",
    "            print(\"O\" if (res[i][1].as_long() == 0) else chr(0x2588))\n",
    "            j = 0\n",
    "        else:\n",
    "            print(\" \", end=\"\")\n",
    "            j += 1\n",
    "    print()\n",
    "\n",
    "\n",
    "def solve_nqueens(n: int) -> bool:\n",
    "    \"\"\" solves nqueen problem\n",
    "    \n",
    "    we can summarize this problem as a list of constraints:\n",
    "    *  we play on a board of dimension n*n\n",
    "    *  each line must contain 0 or 1 queen\n",
    "    *  each colomn must contain 0 or 1 queen\n",
    "    *  each diagonal must contain 0 or 1 queen\n",
    "    *  there must be n queens on the board\n",
    "    \n",
    "    :n size of the board and number of queens to place on it\n",
    "    :returns True if the problem was solved\n",
    "    \"\"\"\n",
    "    queens = []\n",
    "    solver = Solver()\n",
    "    for line in range(n):\n",
    "        queens.append([])\n",
    "        for colomn in range(n):\n",
    "            queens[line].append(Int(f\"q{line}_{colomn}\"))\n",
    "            solver.add(Or(queens[line][-1] == 1, queens[line][-1] == 0))\n",
    "        solver.add(Or(sum(queens[-1]) == 1, sum(queens[-1]) == 0))\n",
    "    # save nous permet de sauvegarder l'ensemble de nos instances Int() dans un seul tableau\n",
    "    # pour pouvoir indiquer le nombre de reines total à z3\n",
    "    save = []\n",
    "    for colomn_i in range(n):\n",
    "        colomn = []\n",
    "        for line in range(n):\n",
    "            colomn.append(queens[line][colomn_i])\n",
    "            save.append(queens[line][colomn_i])\n",
    "        solver.add(Or(sum(colomn) == 1, sum(colomn) == 0))\n",
    "    # on indique que n reines doivent être placées\n",
    "    solver.add(sum(save) == n)\n",
    "    # on itère pour créer toutes nos diagonales\n",
    "    for i in range(n):\n",
    "        diag, diag2, diag3, diag4 = [], [], [], []\n",
    "        lin_down = i\n",
    "        col_down = 0\n",
    "        lin_up = n - 1\n",
    "        col_up = i\n",
    "        # on crée nos diagonales\n",
    "        while col_down < n and lin_down < n:\n",
    "            diag.append(queens[lin_down][col_down])           # i-down 0-right  ligne gauche vers bas\n",
    "            diag2.append(queens[col_down][lin_down])          # 0-down i-right  ligne haut vers droite\n",
    "            diag3.append(queens[lin_up][lin_down])            # n-1-up i-right  ligne bas vers droite\n",
    "            diag4.append(queens[n - 1 - lin_down][col_down])  # i-up 0-right    ligne gauche vers haut\n",
    "            col_down += 1\n",
    "            lin_down += 1\n",
    "            lin_up -= 1\n",
    "            col_up -= 1\n",
    "        # on indique que sur chacune de nos diagonales il ne peut y avoir au maximum qu'une seule reine\n",
    "        solver.add(Or(sum(diag) == 1, sum(diag) == 0))\n",
    "        solver.add(Or(sum(diag2) == 1, sum(diag2) == 0))\n",
    "        solver.add(Or(sum(diag3) == 1, sum(diag3) == 0))\n",
    "        solver.add(Or(sum(diag4) == 1, sum(diag4) == 0))\n",
    "    # on résout les contraintes\n",
    "    c = solver.check()\n",
    "    print(c)\n",
    "    if c == sat:\n",
    "        print_chess(n, solver.model())\n",
    "        return True\n",
    "    return False\n",
    "\n",
    "# on affiche 8 possibilités de placement\n",
    "for i in range(8):\n",
    "    solve_nqueens(8)"
   ]
  },
  {
   "cell_type": "markdown",
   "metadata": {},
   "source": [
    "### Crackme"
   ]
  },
  {
   "cell_type": "markdown",
   "metadata": {},
   "source": [
    "Il est l'heure de passer à l'utilisation la plus commune de z3 : la **résolution de crackme en CTF** !"
   ]
  },
  {
   "cell_type": "markdown",
   "metadata": {},
   "source": [
    "Le crackme est le suivant:"
   ]
  },
  {
   "cell_type": "code",
   "execution_count": 249,
   "metadata": {},
   "outputs": [
    {
     "name": "stdout",
     "output_type": "stream",
     "text": [
      "1945 458 686\n",
      "410\n",
      "Congratz, you found the flag !\n",
      "EwITqxyzUyyMcxms-9lC"
     ]
    }
   ],
   "source": [
    "arg = \"IamGrOOOOO000000t1t0ttt0ttt333333334444AAaaaaaa1111111YYLLYL..............\"\n",
    "\n",
    "def run_crackme(flag: str) -> str:\n",
    "    buff = []\n",
    "    if len(flag) != 20:\n",
    "        return None\n",
    "    for i in range(len(flag)):\n",
    "        c = int(ord(arg[i**i % len(arg)]) / 4) + ord(flag[i])\n",
    "        buff.append(c)\n",
    "    print(sum(buff), sum(buff[:5]), sum(buff[10:17]))\n",
    "    print(buff[1] + buff[3] + buff[18] + buff[12])\n",
    "    if (sum(buff) == 1945) and (sum(buff[:5]) == 458) and (sum(buff[10:17]) == 686):\n",
    "        if buff[1] + buff[3] + buff[18] + buff[12] == 410:\n",
    "            print(f\"Congratz, you found the flag !\")\n",
    "    for i in buff:\n",
    "        print(chr(i), end=\"\")\n",
    "flag = \"-_-HelloIamAFlag!-_-\"\n",
    "run_crackme(flag)"
   ]
  },
  {
   "cell_type": "code",
   "execution_count": 257,
   "metadata": {},
   "outputs": [
    {
     "name": "stdout",
     "output_type": "stream",
     "text": [
      "['\\x1e', '\\x1e', '\\x1e', '\\x1e', '\\x1e', '\\x1e', '*', '*', '*', '4', '6', ';', 'E', 'Q', 'R', 'V', ']', 'c', 'f', 'f']\n"
     ]
    }
   ],
   "source": [
    "def solve_crackme() -> list:\n",
    "    \"\"\" solves crackme\n",
    "    \"\"\"\n",
    "    flag = IntVector(\"flag\", 20)\n",
    "    tmp = IntVector(\"tmp\", 20)\n",
    "    solver = Solver()\n",
    "    for i in range(20):\n",
    "        solver.add(And(flag[i] > 29, flag[i] < 127))\n",
    "        solver.add(And(tmp[i] < 127, tmp[i] > 29))\n",
    "        solver.add(tmp[i] == int(ord(arg[i**i % len(arg)]) / 4) + flag[i])\n",
    "    solver.add(flag[0] == flag[-1])\n",
    "    solver.add(sum(tmp) == 1945)\n",
    "    solver.add(sum(tmp[:5]) == 458)\n",
    "    solver.add(sum(tmp[10:17]) == 686)\n",
    "    solver.add(tmp[1] + tmp[3] + tmp[18] + tmp[12] == 410)\n",
    "    if solver.check() == sat:\n",
    "        s = solver.model()\n",
    "        print(sorted([chr(int(s[d].as_long())) for d in s], key = lambda x: str(x[0]))[:20])\n",
    "    else:\n",
    "        print(\"No solution found\")\n",
    "\n",
    "solve_crackme()"
   ]
  }
 ],
 "metadata": {
  "kernelspec": {
   "display_name": "Python 3",
   "language": "python",
   "name": "python3"
  },
  "language_info": {
   "codemirror_mode": {
    "name": "ipython",
    "version": 3
   },
   "file_extension": ".py",
   "mimetype": "text/x-python",
   "name": "python",
   "nbconvert_exporter": "python",
   "pygments_lexer": "ipython3",
   "version": "3.7.4"
  }
 },
 "nbformat": 4,
 "nbformat_minor": 2
}

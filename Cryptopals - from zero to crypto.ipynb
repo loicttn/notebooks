{
 "cells": [
  {
   "cell_type": "markdown",
   "metadata": {},
   "source": [
    "# Cryptopals"
   ]
  },
  {
   "cell_type": "markdown",
   "metadata": {},
   "source": [
    "`cryptopals.com` provides a complete series of exercices used to learn **cryptography**.\n",
    "\n",
    "Of course we do not have the right to use any crypto tool or library of any kind !"
   ]
  },
  {
   "cell_type": "markdown",
   "metadata": {},
   "source": [
    "# Set 1 : Basics"
   ]
  },
  {
   "cell_type": "markdown",
   "metadata": {},
   "source": [
    "## Utils"
   ]
  },
  {
   "cell_type": "markdown",
   "metadata": {},
   "source": [
    "All utilities used for Set 1."
   ]
  },
  {
   "cell_type": "code",
   "execution_count": 23,
   "metadata": {},
   "outputs": [],
   "source": [
    "import requests"
   ]
  },
  {
   "cell_type": "code",
   "execution_count": 12,
   "metadata": {},
   "outputs": [],
   "source": [
    "def hex_to_bytes(input: str) -> list:\n",
    "    \"\"\"\n",
    "    returns @input as bytes integers array\n",
    "    \n",
    "    @input must be an hex string\n",
    "    \"\"\"\n",
    "    bytes = []\n",
    "    for i in range(0, len(input), 2):\n",
    "        bytes.append(int(input[i:i+2], 16))\n",
    "    return bytes\n",
    "\n",
    "\n",
    "def get_array_mean(array: list) -> int:\n",
    "    \"\"\"\n",
    "    returns the mean of the integers array @array\n",
    "    \"\"\"\n",
    "    if not len(array):\n",
    "        return -1\n",
    "    return sum(array) / len(array)\n",
    "\n",
    "\n",
    "def str_to_hexstr(string: str) -> hex:\n",
    "    \"\"\"\n",
    "    returns hexstring representation of @string\n",
    "    \"\"\"\n",
    "    return \"\".join(\"{:02x}\".format(ord(c)) for c in string)"
   ]
  },
  {
   "cell_type": "markdown",
   "metadata": {},
   "source": [
    "## Hex to Base64"
   ]
  },
  {
   "cell_type": "markdown",
   "metadata": {},
   "source": [
    "Always operate on raw bytes, never on encoded strings. Only use hex and base64 for pretty-printing."
   ]
  },
  {
   "cell_type": "code",
   "execution_count": 25,
   "metadata": {},
   "outputs": [],
   "source": [
    "BASE64_ALPHABET = \"ABCDEFGHIJKLMNOPQRSTUVWXYZabcdefghijklmnopqrstuvwxyz0123456789+/\"\n",
    "SET1STEP1_INPUT = \"49276d206b696c6c696e6720796f757220627261696e206c696b65206120706f69736f6e6f7573206d757368726f6f6d\"\n",
    "SET1STEP1_OUTPUT = \"SSdtIGtpbGxpbmcgeW91ciBicmFpbiBsaWtlIGEgcG9pc29ub3VzIG11c2hyb29t\""
   ]
  },
  {
   "cell_type": "code",
   "execution_count": 26,
   "metadata": {},
   "outputs": [],
   "source": [
    "def hex_to_b64(input: str) -> str:\n",
    "    \"\"\"\n",
    "    returns the base64 encoded @input\n",
    "    \"\"\"\n",
    "    result = \"\"\n",
    "    bytes = hex_to_bytes(input)\n",
    "    for i in range(0, len(bytes), 3):\n",
    "        concat = bytes[i] << 16 | bytes[i + 1] << 8 | bytes[i + 2]\n",
    "        chars = [concat >> 18, concat >> 12 & 0x3f, concat >> 6 & 0x3f, concat & 0x3f]\n",
    "        for char in chars:\n",
    "            result += BASE64_ALPHABET[char]\n",
    "    return result"
   ]
  },
  {
   "cell_type": "code",
   "execution_count": 27,
   "metadata": {},
   "outputs": [],
   "source": [
    "assert hex_to_b64(SET1STEP1_INPUT) == SET1STEP1_OUTPUT"
   ]
  },
  {
   "cell_type": "markdown",
   "metadata": {},
   "source": [
    "## Fixed xor"
   ]
  },
  {
   "cell_type": "markdown",
   "metadata": {},
   "source": [
    "Write a function that takes two equal-length buffers and produces their XOR combination."
   ]
  },
  {
   "cell_type": "code",
   "execution_count": 28,
   "metadata": {},
   "outputs": [],
   "source": [
    "SET1STEP2_INPUT = \"1c0111001f010100061a024b53535009181c\"\n",
    "SET1STEP2_KEY = \"686974207468652062756c6c277320657965\"\n",
    "SET1STEP2_OUTPUT = \"746865206b696420646f6e277420706c6179\""
   ]
  },
  {
   "cell_type": "code",
   "execution_count": 29,
   "metadata": {},
   "outputs": [],
   "source": [
    "def xor(input: str, key: str) -> str:\n",
    "    \"\"\"\n",
    "    xor @input with @key\n",
    "    \n",
    "    @input @key and return value are hex strings\n",
    "    \"\"\"\n",
    "    return hex(int(input, 16) ^ int(key, 16)).replace(\"0x\", \"\")"
   ]
  },
  {
   "cell_type": "code",
   "execution_count": 30,
   "metadata": {},
   "outputs": [],
   "source": [
    "assert xor(SET1STEP2_INPUT, SET1STEP2_KEY) == SET1STEP2_OUTPUT"
   ]
  },
  {
   "cell_type": "markdown",
   "metadata": {},
   "source": [
    "## Single-byte xor cipher"
   ]
  },
  {
   "cell_type": "markdown",
   "metadata": {},
   "source": [
    "Input as been XOR'd against a single character. Find the key, decrypt the message."
   ]
  },
  {
   "cell_type": "code",
   "execution_count": 31,
   "metadata": {},
   "outputs": [],
   "source": [
    "SET1STEP3_INPUT = \"1b37373331363f78151b7f2b783431333d78397828372d363c78373e783a393b3736\""
   ]
  },
  {
   "cell_type": "code",
   "execution_count": 32,
   "metadata": {},
   "outputs": [],
   "source": [
    "def check_english(input: str) -> bool:\n",
    "    \"\"\"\n",
    "    checks with frequency analysis if @input is an english sentence\n",
    "    \n",
    "    returns True if english language is detected\n",
    "    @input must be a string\n",
    "    \"\"\"\n",
    "    error_size = 2\n",
    "    valid = 0\n",
    "    english = [\n",
    "        {\"letter\": \"e\", \"frequency\": 12.702},\n",
    "        {\"letter\": \"t\", \"frequency\": 9.056},\n",
    "        {\"letter\": \"a\", \"frequency\": 8.167},\n",
    "        {\"letter\": \"o\", \"frequency\": 7.507},\n",
    "        {\"letter\": \"i\", \"frequency\": 6.966},\n",
    "        {\"letter\": \"n\", \"frequency\": 6.749}\n",
    "    ]\n",
    "    string = input.lower()\n",
    "    for element in english:\n",
    "        number = string.count(element.get(\"letter\")) * 100 / len(string)\n",
    "        frequency = element.get(\"frequency\")\n",
    "        if number >= (frequency - 0.3 * frequency) and number <= frequency + 0.3 * frequency:\n",
    "            valid += 1\n",
    "    if \"'s \" in string:\n",
    "        valid += 2\n",
    "    if valid >= len(english) - error_size:\n",
    "        return True\n",
    "    return False\n",
    "\n",
    "\n",
    "def uncipher_single_byte_xor(input: str) -> str or None:\n",
    "    \"\"\"\n",
    "    finds the single-byte key used to encrypt @input\n",
    "    \n",
    "    @input and return values are hex strings\n",
    "    \"\"\"\n",
    "    bytes = hex_to_bytes(input)\n",
    "    res = \"\"\n",
    "    stock = \"\"\n",
    "    for key in range(0, 255):\n",
    "        for c in bytes:\n",
    "            char = c ^ key\n",
    "            if not (char > 30 and char < 128):\n",
    "                break\n",
    "            res += chr(char)\n",
    "        if len(res) == len(bytes) and check_english(res):\n",
    "            print(\"[+] Key is\", key)\n",
    "            stock = res\n",
    "        res = ''\n",
    "    return stock"
   ]
  },
  {
   "cell_type": "code",
   "execution_count": 33,
   "metadata": {},
   "outputs": [
    {
     "name": "stdout",
     "output_type": "stream",
     "text": [
      "[+] Key is 88\n",
      "[+] Decoded: Cooking MC's like a pound of bacon\n"
     ]
    }
   ],
   "source": [
    "print(\"[+] Decoded:\", uncipher_single_byte_xor(SET1STEP3_INPUT))"
   ]
  },
  {
   "cell_type": "markdown",
   "metadata": {},
   "source": [
    "## Detect single-character XOR"
   ]
  },
  {
   "cell_type": "markdown",
   "metadata": {},
   "source": [
    "Find the encrypted string with single byte xor."
   ]
  },
  {
   "cell_type": "code",
   "execution_count": 34,
   "metadata": {},
   "outputs": [],
   "source": [
    "SET1CHALL5_URL = \"https://cryptopals.com/static/challenge-data/4.txt\""
   ]
  },
  {
   "cell_type": "code",
   "execution_count": 35,
   "metadata": {
    "scrolled": true
   },
   "outputs": [],
   "source": [
    "def detect_single_xor(tab: list) -> str:\n",
    "    \"\"\"\n",
    "    returns the decoded string encoded with a single byte xor\n",
    "    \n",
    "    @tab must be a list of hex strings\n",
    "    \"\"\"\n",
    "    for value in tab:\n",
    "        res = uncipher_single_byte_xor(value)\n",
    "        if res:\n",
    "            print(\"[+] Decoded:\", res)"
   ]
  },
  {
   "cell_type": "code",
   "execution_count": 36,
   "metadata": {},
   "outputs": [
    {
     "name": "stdout",
     "output_type": "stream",
     "text": [
      "[+] Key is 99\n",
      "[+] Decoded: T2XNi-]1rTIYbP/>2`o%%]T5JonmqA\n",
      "[+] Key is 120\n",
      "[+] Decoded: mjOia}tti:\\\"x7{N(0`H[ra]p$bo_^\n"
     ]
    }
   ],
   "source": [
    "r = requests.get(SET1CHALL5_URL)\n",
    "tab = r.text.split(\"\\n\")\n",
    "detect_single_xor(tab)"
   ]
  },
  {
   "cell_type": "markdown",
   "metadata": {},
   "source": [
    "## Implement repeating-key XOR"
   ]
  },
  {
   "cell_type": "markdown",
   "metadata": {},
   "source": [
    "In repeating-key XOR, you'll sequentially apply each byte of the key."
   ]
  },
  {
   "cell_type": "code",
   "execution_count": 38,
   "metadata": {},
   "outputs": [],
   "source": [
    "SET1STEP6_INPUT = \"Burning 'em, if you ain't quick and nimble\\nI go crazy when I hear a cymbal\"\n",
    "\n",
    "SET1STEP6_KEY = \"ICE\"\n",
    "\n",
    "SET1STEP6_OUTPUT = \"0b3637272a2b2e63622c2e69692a23693a2a3c6324202d623d63343c2a26226324272765272a282b2f20430a652e2c652a3124333a653e2b2027630c692b20283165286326302e27282f\""
   ]
  },
  {
   "cell_type": "code",
   "execution_count": 38,
   "metadata": {},
   "outputs": [],
   "source": [
    "def repeating_xor_encrypt(string: str, key: str) -> str:\n",
    "    \"\"\"\n",
    "    encrypt @input with @key\n",
    "    \n",
    "    @input and @key must be basic strings\n",
    "    \"\"\"\n",
    "    res = \"\"\n",
    "    for i in range(len(string)):\n",
    "        tmp = hex(ord(string[i]) ^ ord(key[i % len(key)])).replace(\"0x\", \"\")#\n",
    "        res += (2 - len(tmp)) * \"0\" + tmp\n",
    "    return res "
   ]
  },
  {
   "cell_type": "code",
   "execution_count": 39,
   "metadata": {},
   "outputs": [],
   "source": [
    "assert repeating_xor_encrypt(SET1STEP6_INPUT, SET1STEP6_KEY) == SET1STEP6_OUTPUT"
   ]
  },
  {
   "cell_type": "markdown",
   "metadata": {},
   "source": [
    "# Break repeating-key XOR"
   ]
  },
  {
   "cell_type": "markdown",
   "metadata": {},
   "source": [
    "###  Hamming distance"
   ]
  },
  {
   "cell_type": "code",
   "execution_count": 18,
   "metadata": {},
   "outputs": [],
   "source": [
    "def get_hamming_distance(s1: hex, s2: hex) -> int:\n",
    "    \"\"\"\n",
    "    returns the hamming sistance between @s1 and @s2\n",
    "    \n",
    "    @s1 and @s2 must be basic strings and same lengths\n",
    "    \"\"\"\n",
    "    s1 = hex_to_bytes(s1)\n",
    "    s2 = hex_to_bytes(s2)\n",
    "    distance = 0\n",
    "    for i in range(len(s1)):\n",
    "        xor = s1[i] ^ s2[i]\n",
    "        distance += str(bin(xor)).count(\"1\")\n",
    "    return distance"
   ]
  },
  {
   "cell_type": "code",
   "execution_count": 19,
   "metadata": {},
   "outputs": [],
   "source": [
    "assert get_hamming_distance(str_to_hexstr(\"this is a test\"), str_to_hexstr(\"wokka wokka!!!\")) == 37"
   ]
  },
  {
   "cell_type": "markdown",
   "metadata": {},
   "source": [
    "### Guessing KEYSIZE"
   ]
  },
  {
   "cell_type": "code",
   "execution_count": 44,
   "metadata": {},
   "outputs": [],
   "source": [
    "def get_nsmallest(array: list, n: int) -> list:\n",
    "    \"\"\"\n",
    "    returns a list composed of the @nth smallest elements of @array\n",
    "    \"\"\"\n",
    "    for i in range(len(array) - 1, -1, -1):\n",
    "        if array[i] == -1:\n",
    "            del array[i]\n",
    "    res = []\n",
    "    save = array\n",
    "    values = [i + 1 for i in range(len(save))]\n",
    "    while n > 0 and len(array):\n",
    "        index = save.index(min(array))\n",
    "        res.append(values[array.index(min(array))])\n",
    "        del values[array.index(min(array))]\n",
    "        del array[array.index(min(array))]\n",
    "        n -= 1\n",
    "    return res\n",
    "\n",
    "\n",
    "def guess_keysize(string: str, nb: int) -> int:\n",
    "    \"\"\"\n",
    "    returns the @nb smallest guessed key sizes of encoded @string (hex string)\n",
    "    \"\"\"\n",
    "    distances = []\n",
    "    for i in range(1, 41):\n",
    "        values = [string[j:j+i] for j in range(0, len(string), i)]\n",
    "        tmp = []\n",
    "        while len(values):\n",
    "            try:\n",
    "                tmp.append(get_hamming_distance(values[0], values[1]) / i)\n",
    "            except IndexError:\n",
    "                break\n",
    "            values = values[1:]\n",
    "        distances.append(get_array_mean(tmp))\n",
    "    return get_nsmallest(distances, nb)"
   ]
  },
  {
   "cell_type": "markdown",
   "metadata": {},
   "source": [
    "### Cracking the code"
   ]
  },
  {
   "cell_type": "code",
   "execution_count": 35,
   "metadata": {},
   "outputs": [],
   "source": [
    "def crack_with_keysize(string: str, key_size: int) -> str:\n",
    "    \"\"\"\n",
    "    finds the key of size key_size and decrypts @string\n",
    "    \n",
    "    @string must be an hex string\n",
    "    \"\"\"\n",
    "    values = [string[j:j+key_size] for j in range(0, len(string), key_size)]\n",
    "    print(values)"
   ]
  },
  {
   "cell_type": "code",
   "execution_count": 43,
   "metadata": {},
   "outputs": [
    {
     "name": "stdout",
     "output_type": "stream",
     "text": [
      "['0b3637272a2b2e6362', '2c2e69692a23693a2a', '3c6324202d623d6334', '3c2a26226324272765', '272a282b2f20430a65', '2e2c652a3124333a65', '3e2b2027630c692b20', '283165286326302e27', '282f']\n"
     ]
    }
   ],
   "source": [
    "sizes = guess_keysize(SET1STEP6_OUTPUT, 2)\n",
    "crack_with_keysize(SET1STEP6_OUTPUT, sizes[0])"
   ]
  }
 ],
 "metadata": {
  "kernelspec": {
   "display_name": "Python 3",
   "language": "python",
   "name": "python3"
  },
  "language_info": {
   "codemirror_mode": {
    "name": "ipython",
    "version": 3
   },
   "file_extension": ".py",
   "mimetype": "text/x-python",
   "name": "python",
   "nbconvert_exporter": "python",
   "pygments_lexer": "ipython3",
   "version": "3.7.4"
  }
 },
 "nbformat": 4,
 "nbformat_minor": 2
}
